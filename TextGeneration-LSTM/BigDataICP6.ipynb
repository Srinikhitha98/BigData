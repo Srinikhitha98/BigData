{
  "nbformat": 4,
  "nbformat_minor": 0,
  "metadata": {
    "colab": {
      "name": "BigDataICP6.ipynb",
      "provenance": []
    },
    "kernelspec": {
      "name": "python3",
      "display_name": "Python 3"
    },
    "language_info": {
      "name": "python"
    },
    "accelerator": "GPU"
  },
  "cells": [
    {
      "cell_type": "markdown",
      "source": [
        "#ICP6\n",
        "\n",
        "Download all the required libraries."
      ],
      "metadata": {
        "id": "6trZnsE3FHX6"
      }
    },
    {
      "cell_type": "code",
      "execution_count": 22,
      "metadata": {
        "id": "64pvzOVfZH_t"
      },
      "outputs": [],
      "source": [
        "# import required modules\n",
        "#TensorFlow provides a collection of workflows to develop and train models using Python\n",
        "import tensorflow as tf\n",
        "#NumPy can be used to perform a wide variety of mathematical operations on arrays.\n",
        "import numpy as np\n",
        "import os\n",
        "import time\n",
        "\n"
      ]
    },
    {
      "cell_type": "markdown",
      "source": [
        "Import the dataset and print the dataset"
      ],
      "metadata": {
        "id": "lVS-LM5NFe_j"
      }
    },
    {
      "cell_type": "code",
      "source": [
        "import requests\n",
        "import re\n",
        "from bs4 import BeautifulSoup\n",
        " \n",
        "urls = [\"https://en.wikipedia.org/wiki/Machine_learning\",\"https://en.wikipedia.org/wiki/Deep_learning\",\"https://en.wikipedia.org/wiki/Artificial_intelligence\",\"https://en.wikipedia.org/wiki/Python_(programming_language)\",\"https://en.wikipedia.org/wiki/Natural_language_processing\",\"https://en.wikipedia.org/wiki/Keras\",\"https://en.wikipedia.org/wiki/Big_data\",\"https://en.wikipedia.org/wiki/Recurrent_neural_network\",\"https://en.wikipedia.org/wiki/Convolutional_neural_network\",\"https://en.wikipedia.org/wiki/Computer_vision\"]\n",
        "text_lists=[]\n",
        "for url in urls: \n",
        "  print(url +\"\\n\")\n",
        "    # get URL\n",
        "  page = requests.get(url)\n",
        "    # scrape webpage\n",
        "  soup = BeautifulSoup(page.content, 'html.parser')\n",
        "  valid_tags=[\"div\",\"p\"]\n",
        "  for tag in soup.find_all('p'):\n",
        "    if tag.name in valid_tags:\n",
        "      text_lists.append(tag.get_text())\n",
        "\n",
        "\n",
        "ip_text=\"\".join(text_lists)\n",
        "ip_text=re.sub(\"\\[[\\d]*]\",\"\",ip_text)\n",
        "print(len(ip_text))\n",
        "print(ip_text[:300])\n"
      ],
      "metadata": {
        "id": "18RMxvJpS1zl",
        "colab": {
          "base_uri": "https://localhost:8080/"
        },
        "outputId": "5ae2dbdd-0918-4bd5-ee01-ea0ea8d38cff"
      },
      "execution_count": 23,
      "outputs": [
        {
          "output_type": "stream",
          "name": "stdout",
          "text": [
            "https://en.wikipedia.org/wiki/Machine_learning\n",
            "\n",
            "https://en.wikipedia.org/wiki/Deep_learning\n",
            "\n",
            "https://en.wikipedia.org/wiki/Artificial_intelligence\n",
            "\n",
            "https://en.wikipedia.org/wiki/Python_(programming_language)\n",
            "\n",
            "https://en.wikipedia.org/wiki/Natural_language_processing\n",
            "\n",
            "https://en.wikipedia.org/wiki/Keras\n",
            "\n",
            "https://en.wikipedia.org/wiki/Big_data\n",
            "\n",
            "https://en.wikipedia.org/wiki/Recurrent_neural_network\n",
            "\n",
            "https://en.wikipedia.org/wiki/Convolutional_neural_network\n",
            "\n",
            "https://en.wikipedia.org/wiki/Computer_vision\n",
            "\n",
            "308446\n",
            "Machine learning (ML) is the study of computer algorithms that can improve automatically through experience and by the use of data. It is seen as a part of artificial intelligence. Machine learning algorithms build a model based on sample data, known as training data, in order to make predictions or\n"
          ]
        }
      ]
    },
    {
      "cell_type": "markdown",
      "source": [
        "Print the unique characters"
      ],
      "metadata": {
        "id": "xbE9FLC2Fr44"
      }
    },
    {
      "cell_type": "code",
      "source": [
        "# The unique characters in the file\n",
        "vocab = sorted(set(ip_text))\n",
        "print ('{} unique characters'.format(len(vocab)))\n",
        "print(vocab)"
      ],
      "metadata": {
        "colab": {
          "base_uri": "https://localhost:8080/"
        },
        "id": "-dl7eKt3ZzQ5",
        "outputId": "8dd9a595-2d0c-4d5c-8c40-cf8882300360"
      },
      "execution_count": 24,
      "outputs": [
        {
          "output_type": "stream",
          "name": "stdout",
          "text": [
            "117 unique characters\n",
            "['\\n', ' ', '!', '\"', '$', '%', '&', \"'\", '(', ')', '*', '+', ',', '-', '.', '/', '0', '1', '2', '3', '4', '5', '6', '7', '8', '9', ':', ';', '<', '=', '>', '?', '@', 'A', 'B', 'C', 'D', 'E', 'F', 'G', 'H', 'I', 'J', 'K', 'L', 'M', 'N', 'O', 'P', 'Q', 'R', 'S', 'T', 'U', 'V', 'W', 'X', 'Y', 'Z', '[', '\\\\', ']', '^', '_', 'a', 'b', 'c', 'd', 'e', 'f', 'g', 'h', 'i', 'j', 'k', 'l', 'm', 'n', 'o', 'p', 'q', 'r', 's', 't', 'u', 'v', 'w', 'x', 'y', 'z', '{', '|', '}', '\\xa0', '°', '×', 'ç', 'é', 'ï', 'ü', 'Č', 'ń', 'σ', '\\u200a', '‑', '–', '—', '‖', '’', '“', '”', '\\u2061', 'ℓ', '→', '⇒', '−', '∞']\n"
          ]
        }
      ]
    },
    {
      "cell_type": "markdown",
      "source": [
        "Process the text\n",
        "\n",
        "Vectorize the text\n",
        "\n",
        "Before training, we need to map strings to a numerical representation. Create two lookup tables: one mapping characters to numbers, and another for numbers to characters."
      ],
      "metadata": {
        "id": "vB28LG_sF2mE"
      }
    },
    {
      "cell_type": "code",
      "source": [
        "# Creating a mapping from unique characters to indices\n",
        "char2idx = {u:i for i, u in enumerate(vocab)}\n",
        "idx2char = np.array(vocab)\n",
        "\n",
        "text_as_int = np.array([char2idx[c] for c in ip_text])"
      ],
      "metadata": {
        "id": "nOABwzHQcqWA"
      },
      "execution_count": 25,
      "outputs": []
    },
    {
      "cell_type": "markdown",
      "source": [
        "The prediction task\n",
        "\n",
        "Given a character, or a sequence of characters, what is the most probable next character? This is the task we're training the model to perform. The input to the model will be a sequence of characters, and we train the model to predict the output—the following character at each time step.\n",
        "\n",
        "Since RNNs maintain an internal state that depends on the previously seen elements, given all the characters computed until this moment, what is the next character?\n",
        "\n",
        "Create training examples and targets\n",
        "\n",
        "Next divide the text into example sequences. Each input sequence will contain seq_length characters from the text.\n",
        "\n",
        "For each input sequence, the corresponding targets contain the same length of text, except shifted one character to the right.\n",
        "\n",
        "So break the text into chunks of seq_length+1. For example, say seq_length is 4 and our text is \"Hello\". The input sequence would be \"Hell\", and the target sequence \"ello\".\n",
        "\n",
        "To do this first use the tf.data.Dataset.from_tensor_slices function to convert the text vector into a stream of character indices."
      ],
      "metadata": {
        "id": "srhgX1VEGH9Q"
      }
    },
    {
      "cell_type": "code",
      "source": [
        "# The maximum length sentence we want for a single input in characters\n",
        "seq_length = 100\n",
        "examples_per_epoch = len(ip_text)//(seq_length+1)\n",
        "\n",
        "# Create training examples / targets\n",
        "char_dataset = tf.data.Dataset.from_tensor_slices(text_as_int)\n",
        "\n",
        "for i in char_dataset.take(5):\n",
        "  print(idx2char[i.numpy()])"
      ],
      "metadata": {
        "colab": {
          "base_uri": "https://localhost:8080/"
        },
        "id": "yE9376tyc9bU",
        "outputId": "3b92d7fd-2b74-4ea4-c577-d8e94389d48b"
      },
      "execution_count": 26,
      "outputs": [
        {
          "output_type": "stream",
          "name": "stdout",
          "text": [
            "M\n",
            "a\n",
            "c\n",
            "h\n",
            "i\n"
          ]
        }
      ]
    },
    {
      "cell_type": "markdown",
      "source": [
        "The batch method lets us easily convert these individual characters to sequences of the desired size."
      ],
      "metadata": {
        "id": "JL21kZDjskf1"
      }
    },
    {
      "cell_type": "code",
      "source": [
        "sequences = char_dataset.batch(seq_length+1, drop_remainder=True)\n",
        "\n",
        "for item in sequences.take(5):\n",
        "  print(repr(''.join(idx2char[item.numpy()])))"
      ],
      "metadata": {
        "colab": {
          "base_uri": "https://localhost:8080/"
        },
        "id": "Y-gPMlEgdIW1",
        "outputId": "b8a97c8d-ffd9-49c9-9349-52f3da0dcd23"
      },
      "execution_count": 27,
      "outputs": [
        {
          "output_type": "stream",
          "name": "stdout",
          "text": [
            "'Machine learning (ML) is the study of computer algorithms that can improve automatically through expe'\n",
            "'rience and by the use of data. It is seen as a part of artificial intelligence. Machine learning algo'\n",
            "'rithms build a model based on sample data, known as training data, in order to make predictions or de'\n",
            "'cisions without being explicitly programmed to do so. Machine learning algorithms are used in a wide '\n",
            "'variety of applications, such as in medicine, email filtering, speech recognition, and computer visio'\n"
          ]
        }
      ]
    },
    {
      "cell_type": "markdown",
      "source": [
        "For each sequence, duplicate and shift it to form the input and target text by using the map method to apply a simple function to each batch:"
      ],
      "metadata": {
        "id": "RGXTbOA4spQi"
      }
    },
    {
      "cell_type": "code",
      "source": [
        "def split_input_target(chunk):\n",
        "  input_text = chunk[:-1]\n",
        "  target_text = chunk[1:]\n",
        "  return input_text, target_text\n",
        "\n",
        "dataset = sequences.map(split_input_target)"
      ],
      "metadata": {
        "id": "WM2mcOV7dNMq"
      },
      "execution_count": 28,
      "outputs": []
    },
    {
      "cell_type": "markdown",
      "source": [
        "Print the first examples input and target values:"
      ],
      "metadata": {
        "id": "ghgztmc2sqqI"
      }
    },
    {
      "cell_type": "code",
      "source": [
        "for input_example, target_example in  dataset.take(1):\n",
        "  print ('Input data: ', repr(''.join(idx2char[input_example.numpy()])))\n",
        "  print ('Target data:', repr(''.join(idx2char[target_example.numpy()])))"
      ],
      "metadata": {
        "colab": {
          "base_uri": "https://localhost:8080/"
        },
        "id": "soEQHe_FdQW0",
        "outputId": "7161b7dd-eb2d-460e-8c49-f4a09eb625c5"
      },
      "execution_count": 29,
      "outputs": [
        {
          "output_type": "stream",
          "name": "stdout",
          "text": [
            "Input data:  'Machine learning (ML) is the study of computer algorithms that can improve automatically through exp'\n",
            "Target data: 'achine learning (ML) is the study of computer algorithms that can improve automatically through expe'\n"
          ]
        }
      ]
    },
    {
      "cell_type": "markdown",
      "source": [
        "Create training batches\n",
        "\n",
        "We used tf.data to split the text into manageable sequences. But before feeding this data into the model, we need to shuffle the data and pack it into batches."
      ],
      "metadata": {
        "id": "74S0E5UTsu8H"
      }
    },
    {
      "cell_type": "code",
      "source": [
        "\n",
        "# Batch size\n",
        "BATCH_SIZE = 64\n",
        "\n",
        "# Buffer size to shuffle the dataset\n",
        "# (TF data is designed to work with possibly infinite sequences,\n",
        "# so it doesn't attempt to shuffle the entire sequence in memory. Instead,\n",
        "# it maintains a buffer in which it shuffles elements).\n",
        "BUFFER_SIZE = 10000\n",
        "\n",
        "dataset = dataset.shuffle(BUFFER_SIZE).batch(BATCH_SIZE, drop_remainder=True)\n",
        "\n",
        "dataset\n",
        "\n",
        "# Length of the vocabulary in chars\n",
        "vocab_size = len(vocab)\n",
        "\n",
        "# The embedding dimension\n",
        "embedding_dim = 256\n",
        "\n",
        "# Number of RNN units\n",
        "rnn_units = 1024"
      ],
      "metadata": {
        "id": "JOgVMjCxdW_8"
      },
      "execution_count": 30,
      "outputs": []
    },
    {
      "cell_type": "markdown",
      "source": [
        "Build The Model\n",
        "\n",
        "Use tf.keras.Sequential to define the model. For this simple example three layers are used to define our model:\n",
        "\n",
        "tf.keras.layers.Embedding: The input layer. A trainable lookup table that will map the numbers of each character to a vector with embedding_dim dimensions;\n",
        "\n",
        "tf.keras.layers.LSTM: A type of RNN with size units=rnn_units.Since we have huge amount of data its good to use LSTM layer\n",
        "\n",
        "Used multiple dense layers to reduce loss .\n",
        "\n",
        "tf.keras.layers.Dense: The output layer, with vocab_size outputs."
      ],
      "metadata": {
        "id": "FxJ9OcRetEyO"
      }
    },
    {
      "cell_type": "code",
      "source": [
        "def build_model(vocab_size, embedding_dim, rnn_units, batch_size):\n",
        "  model = tf.keras.Sequential([\n",
        "    tf.keras.layers.Embedding(vocab_size, embedding_dim,\n",
        "                              batch_input_shape=[batch_size, None]),\n",
        "    tf.keras.layers.LSTM(rnn_units,\n",
        "                        return_sequences=True,\n",
        "                        stateful=True,\n",
        "                        recurrent_initializer='glorot_uniform',dropout=0.1),\n",
        "                               \n",
        "    \n",
        "    tf.keras.layers.Dense(vocab_size),\n",
        "    tf.keras.layers.Dense(50),\n",
        "    tf.keras.layers.Dense(vocab_size)\n",
        "  ])\n",
        "  return model"
      ],
      "metadata": {
        "id": "omRs5iJPQWxO"
      },
      "execution_count": 31,
      "outputs": []
    },
    {
      "cell_type": "markdown",
      "source": [
        "Build the model."
      ],
      "metadata": {
        "id": "Cwv_wUqxvRnt"
      }
    },
    {
      "cell_type": "code",
      "source": [
        "model = build_model(\n",
        "    vocab_size = len(vocab),\n",
        "    embedding_dim=embedding_dim,\n",
        "    rnn_units=rnn_units,\n",
        "    batch_size=BATCH_SIZE)"
      ],
      "metadata": {
        "id": "GlBKCgheQXOc"
      },
      "execution_count": 32,
      "outputs": []
    },
    {
      "cell_type": "markdown",
      "source": [
        "Try the model\n",
        "\n",
        "Now run the model to see that it behaves as expected.\n",
        "\n",
        "First check the shape of the output:"
      ],
      "metadata": {
        "id": "tj-YNSSmvWVz"
      }
    },
    {
      "cell_type": "code",
      "source": [
        "for input_example_batch, target_example_batch in dataset.take(1):\n",
        "  example_batch_predictions = model(input_example_batch)\n",
        "  print(example_batch_predictions.shape, \"# (batch_size, sequence_length, vocab_size)\")"
      ],
      "metadata": {
        "colab": {
          "base_uri": "https://localhost:8080/"
        },
        "id": "sUWme3RmQZqd",
        "outputId": "d533b1f4-5c95-4a1b-aac4-ad16c1e9cfdd"
      },
      "execution_count": 33,
      "outputs": [
        {
          "output_type": "stream",
          "name": "stdout",
          "text": [
            "WARNING:tensorflow:Detecting that an object or model or tf.train.Checkpoint is being deleted with unrestored values. See the following logs for the specific values in question. To silence these warnings, use `status.expect_partial()`. See https://www.tensorflow.org/api_docs/python/tf/train/Checkpoint#restorefor details about the status object returned by the restore function.\n",
            "WARNING:tensorflow:Value in checkpoint could not be found in the restored object: (root).optimizer.iter\n",
            "WARNING:tensorflow:Value in checkpoint could not be found in the restored object: (root).optimizer.beta_1\n",
            "WARNING:tensorflow:Value in checkpoint could not be found in the restored object: (root).optimizer.beta_2\n",
            "WARNING:tensorflow:Value in checkpoint could not be found in the restored object: (root).optimizer.decay\n",
            "WARNING:tensorflow:Value in checkpoint could not be found in the restored object: (root).optimizer.learning_rate\n",
            "WARNING:tensorflow:Value in checkpoint could not be found in the restored object: (root).optimizer's state 'm' for (root).layer_with_weights-0.embeddings\n",
            "WARNING:tensorflow:Value in checkpoint could not be found in the restored object: (root).optimizer's state 'm' for (root).layer_with_weights-2.kernel\n",
            "WARNING:tensorflow:Value in checkpoint could not be found in the restored object: (root).optimizer's state 'm' for (root).layer_with_weights-2.bias\n",
            "WARNING:tensorflow:Value in checkpoint could not be found in the restored object: (root).optimizer's state 'm' for (root).layer_with_weights-3.kernel\n",
            "WARNING:tensorflow:Value in checkpoint could not be found in the restored object: (root).optimizer's state 'm' for (root).layer_with_weights-3.bias\n",
            "WARNING:tensorflow:Value in checkpoint could not be found in the restored object: (root).optimizer's state 'm' for (root).layer_with_weights-4.kernel\n",
            "WARNING:tensorflow:Value in checkpoint could not be found in the restored object: (root).optimizer's state 'm' for (root).layer_with_weights-4.bias\n",
            "WARNING:tensorflow:Value in checkpoint could not be found in the restored object: (root).optimizer's state 'm' for (root).layer_with_weights-1.cell.kernel\n",
            "WARNING:tensorflow:Value in checkpoint could not be found in the restored object: (root).optimizer's state 'm' for (root).layer_with_weights-1.cell.recurrent_kernel\n",
            "WARNING:tensorflow:Value in checkpoint could not be found in the restored object: (root).optimizer's state 'm' for (root).layer_with_weights-1.cell.bias\n",
            "WARNING:tensorflow:Value in checkpoint could not be found in the restored object: (root).optimizer's state 'v' for (root).layer_with_weights-0.embeddings\n",
            "WARNING:tensorflow:Value in checkpoint could not be found in the restored object: (root).optimizer's state 'v' for (root).layer_with_weights-2.kernel\n",
            "WARNING:tensorflow:Value in checkpoint could not be found in the restored object: (root).optimizer's state 'v' for (root).layer_with_weights-2.bias\n",
            "WARNING:tensorflow:Value in checkpoint could not be found in the restored object: (root).optimizer's state 'v' for (root).layer_with_weights-3.kernel\n",
            "WARNING:tensorflow:Value in checkpoint could not be found in the restored object: (root).optimizer's state 'v' for (root).layer_with_weights-3.bias\n",
            "WARNING:tensorflow:Value in checkpoint could not be found in the restored object: (root).optimizer's state 'v' for (root).layer_with_weights-4.kernel\n",
            "WARNING:tensorflow:Value in checkpoint could not be found in the restored object: (root).optimizer's state 'v' for (root).layer_with_weights-4.bias\n",
            "WARNING:tensorflow:Value in checkpoint could not be found in the restored object: (root).optimizer's state 'v' for (root).layer_with_weights-1.cell.kernel\n",
            "WARNING:tensorflow:Value in checkpoint could not be found in the restored object: (root).optimizer's state 'v' for (root).layer_with_weights-1.cell.recurrent_kernel\n",
            "WARNING:tensorflow:Value in checkpoint could not be found in the restored object: (root).optimizer's state 'v' for (root).layer_with_weights-1.cell.bias\n",
            "(64, 100, 117) # (batch_size, sequence_length, vocab_size)\n"
          ]
        }
      ]
    },
    {
      "cell_type": "markdown",
      "source": [
        "In the above example the sequence length of the input is 100 but the model can be run on inputs of any length:"
      ],
      "metadata": {
        "id": "RZV42wGkvbY0"
      }
    },
    {
      "cell_type": "code",
      "source": [
        "model.summary()"
      ],
      "metadata": {
        "colab": {
          "base_uri": "https://localhost:8080/"
        },
        "id": "XjY03A_jQc-Z",
        "outputId": "f5341a9d-7304-454a-ceac-e4ccf0f809a0"
      },
      "execution_count": 34,
      "outputs": [
        {
          "output_type": "stream",
          "name": "stdout",
          "text": [
            "Model: \"sequential_2\"\n",
            "_________________________________________________________________\n",
            " Layer (type)                Output Shape              Param #   \n",
            "=================================================================\n",
            " embedding_2 (Embedding)     (64, None, 256)           29952     \n",
            "                                                                 \n",
            " lstm_2 (LSTM)               (64, None, 1024)          5246976   \n",
            "                                                                 \n",
            " dense_6 (Dense)             (64, None, 117)           119925    \n",
            "                                                                 \n",
            " dense_7 (Dense)             (64, None, 50)            5900      \n",
            "                                                                 \n",
            " dense_8 (Dense)             (64, None, 117)           5967      \n",
            "                                                                 \n",
            "=================================================================\n",
            "Total params: 5,408,720\n",
            "Trainable params: 5,408,720\n",
            "Non-trainable params: 0\n",
            "_________________________________________________________________\n"
          ]
        }
      ]
    },
    {
      "cell_type": "markdown",
      "source": [
        "To get actual predictions from the model we need to sample from the output distribution, to get actual character indices. This distribution is defined by the logits over the character vocabulary.\n",
        "\n",
        "Note: It is important to sample from this distribution as taking the argmax of the distribution can easily get the model stuck in a loop.\n",
        "\n",
        "Try it for the first example in the batch:"
      ],
      "metadata": {
        "id": "0RuqPwY7zyOR"
      }
    },
    {
      "cell_type": "code",
      "source": [
        "sampled_indices = tf.random.categorical(example_batch_predictions[0], num_samples=1)\n",
        "sampled_indices = tf.squeeze(sampled_indices,axis=-1).numpy()\n",
        "#This gives us, at each timestep, a prediction of the next character index:\n",
        "sampled_indices"
      ],
      "metadata": {
        "colab": {
          "base_uri": "https://localhost:8080/"
        },
        "id": "U4GF6Sb0Qhs2",
        "outputId": "458eaee8-0830-4d6f-979f-ccc313c467d3"
      },
      "execution_count": 35,
      "outputs": [
        {
          "output_type": "execute_result",
          "data": {
            "text/plain": [
              "array([ 50,  89,  34,  54,  90,  51, 113, 105,  41,  44, 101,  38,  17,\n",
              "        13, 100,  75,   4,  73,  68,  21, 111,  79,  93,  45,  45,  59,\n",
              "        27,  68,  40,  22,  89,  79,  35,  47,   0,   5,  89,  76,  81,\n",
              "        45,  18,  64,  76,  98, 110,  41,  20,  19,   0,  79,  31,  58,\n",
              "        61,  29,  43,  95, 110,  56,  73,  13,  49, 100,  79,   0,  35,\n",
              "        93,  79,  56,  53,  67,  82,  11,  27, 110,  40,  16,  84,  21,\n",
              "         8,  71,   9,  58,  61,  62, 113,  26,  98,  89,  70, 109,  77,\n",
              "        66, 103,  94,  31,  66,  77, 113,  93,  99])"
            ]
          },
          "metadata": {},
          "execution_count": 35
        }
      ]
    },
    {
      "cell_type": "markdown",
      "source": [
        "Train the model\n",
        "\n",
        "At this point the problem can be treated as a standard classification problem. Given the previous RNN state, and the input this time step, predict the class of the next character.\n",
        "\n",
        "Attach an optimizer, and a loss function\n",
        "The standard tf.keras.losses.sparse_categorical_crossentropy loss function works in this case because it is applied across the last dimension of the predictions.\n",
        "\n",
        "Because our model returns logits, we need to set the from_logits flag."
      ],
      "metadata": {
        "id": "1sd7NNIXz1eJ"
      }
    },
    {
      "cell_type": "code",
      "source": [
        "def loss(labels, logits):\n",
        "  return tf.keras.losses.sparse_categorical_crossentropy(labels, logits, from_logits=True)\n",
        "\n",
        "example_batch_loss  = loss(target_example_batch, example_batch_predictions)\n",
        "print(\"Prediction shape: \", example_batch_predictions.shape, \" # (batch_size, sequence_length, vocab_size)\")\n",
        "print(\"scalar_loss:      \", example_batch_loss.numpy().mean())"
      ],
      "metadata": {
        "colab": {
          "base_uri": "https://localhost:8080/"
        },
        "id": "Q7X-RhwRQo_j",
        "outputId": "59b95620-a76f-4e7a-ea38-5706466aa5c8"
      },
      "execution_count": 36,
      "outputs": [
        {
          "output_type": "stream",
          "name": "stdout",
          "text": [
            "Prediction shape:  (64, 100, 117)  # (batch_size, sequence_length, vocab_size)\n",
            "scalar_loss:       4.7626567\n"
          ]
        }
      ]
    },
    {
      "cell_type": "markdown",
      "source": [
        "Configure the training procedure using the tf.keras.Model.compile method. We'll use tf.keras.optimizers.Adam with default arguments and the loss function."
      ],
      "metadata": {
        "id": "l9RZHh56z636"
      }
    },
    {
      "cell_type": "code",
      "source": [
        "model.compile(optimizer='Adam', loss=loss)"
      ],
      "metadata": {
        "id": "p-AZkOpaQ86C"
      },
      "execution_count": 37,
      "outputs": []
    },
    {
      "cell_type": "markdown",
      "source": [
        "Configure checkpoints\n",
        "\n",
        "Use a tf.keras.callbacks.ModelCheckpoint to ensure that checkpoints are saved during training:"
      ],
      "metadata": {
        "id": "9QAirbNV0C7W"
      }
    },
    {
      "cell_type": "code",
      "source": [
        "# Directory where the checkpoints will be saved\n",
        "checkpoint_dir = './training_checkpoints'\n",
        "# Name of the checkpoint files\n",
        "checkpoint_prefix = os.path.join(checkpoint_dir, \"ckpt_{epoch}\")\n",
        "\n",
        "checkpoint_callback=tf.keras.callbacks.ModelCheckpoint(\n",
        "    filepath=checkpoint_prefix,\n",
        "    save_weights_only=True)"
      ],
      "metadata": {
        "id": "UaPrA8PYRCdJ"
      },
      "execution_count": 38,
      "outputs": []
    },
    {
      "cell_type": "markdown",
      "source": [
        "Execute the training\n",
        "\n",
        "To keep training time reasonable, use 100 epochs to train the model."
      ],
      "metadata": {
        "id": "FiETW6aH0wrk"
      }
    },
    {
      "cell_type": "code",
      "source": [
        "EPOCHS=100\n",
        "history = model.fit(dataset, epochs=EPOCHS, callbacks=[checkpoint_callback])"
      ],
      "metadata": {
        "colab": {
          "base_uri": "https://localhost:8080/"
        },
        "id": "uA6vXjFwRFog",
        "outputId": "6b75b7e0-36e6-47cf-e365-1aab39da2ee7"
      },
      "execution_count": 39,
      "outputs": [
        {
          "output_type": "stream",
          "name": "stdout",
          "text": [
            "Epoch 1/100\n",
            "47/47 [==============================] - 5s 66ms/step - loss: 3.2905\n",
            "Epoch 2/100\n",
            "47/47 [==============================] - 4s 67ms/step - loss: 2.6998\n",
            "Epoch 3/100\n",
            "47/47 [==============================] - 3s 66ms/step - loss: 2.4063\n",
            "Epoch 4/100\n",
            "47/47 [==============================] - 3s 65ms/step - loss: 2.1720\n",
            "Epoch 5/100\n",
            "47/47 [==============================] - 4s 67ms/step - loss: 1.9622\n",
            "Epoch 6/100\n",
            "47/47 [==============================] - 4s 67ms/step - loss: 1.7723\n",
            "Epoch 7/100\n",
            "47/47 [==============================] - 3s 66ms/step - loss: 1.6211\n",
            "Epoch 8/100\n",
            "47/47 [==============================] - 3s 67ms/step - loss: 1.5232\n",
            "Epoch 9/100\n",
            "47/47 [==============================] - 3s 67ms/step - loss: 1.4199\n",
            "Epoch 10/100\n",
            "47/47 [==============================] - 4s 73ms/step - loss: 1.3511\n",
            "Epoch 11/100\n",
            "47/47 [==============================] - 4s 72ms/step - loss: 1.2944\n",
            "Epoch 12/100\n",
            "47/47 [==============================] - 3s 67ms/step - loss: 1.2397\n",
            "Epoch 13/100\n",
            "47/47 [==============================] - 4s 67ms/step - loss: 1.1957\n",
            "Epoch 14/100\n",
            "47/47 [==============================] - 4s 67ms/step - loss: 1.1466\n",
            "Epoch 15/100\n",
            "47/47 [==============================] - 4s 67ms/step - loss: 1.1041\n",
            "Epoch 16/100\n",
            "47/47 [==============================] - 4s 68ms/step - loss: 1.0591\n",
            "Epoch 17/100\n",
            "47/47 [==============================] - 4s 68ms/step - loss: 1.0135\n",
            "Epoch 18/100\n",
            "47/47 [==============================] - 4s 68ms/step - loss: 0.9659\n",
            "Epoch 19/100\n",
            "47/47 [==============================] - 4s 68ms/step - loss: 0.9163\n",
            "Epoch 20/100\n",
            "47/47 [==============================] - 4s 68ms/step - loss: 0.8687\n",
            "Epoch 21/100\n",
            "47/47 [==============================] - 4s 68ms/step - loss: 0.8160\n",
            "Epoch 22/100\n",
            "47/47 [==============================] - 4s 68ms/step - loss: 0.7727\n",
            "Epoch 23/100\n",
            "47/47 [==============================] - 4s 68ms/step - loss: 0.7235\n",
            "Epoch 24/100\n",
            "47/47 [==============================] - 4s 68ms/step - loss: 0.6753\n",
            "Epoch 25/100\n",
            "47/47 [==============================] - 4s 70ms/step - loss: 0.6321\n",
            "Epoch 26/100\n",
            "47/47 [==============================] - 4s 69ms/step - loss: 0.5945\n",
            "Epoch 27/100\n",
            "47/47 [==============================] - 4s 70ms/step - loss: 0.5568\n",
            "Epoch 28/100\n",
            "47/47 [==============================] - 4s 69ms/step - loss: 0.5213\n",
            "Epoch 29/100\n",
            "47/47 [==============================] - 4s 69ms/step - loss: 0.4942\n",
            "Epoch 30/100\n",
            "47/47 [==============================] - 4s 69ms/step - loss: 0.4712\n",
            "Epoch 31/100\n",
            "47/47 [==============================] - 4s 69ms/step - loss: 0.4459\n",
            "Epoch 32/100\n",
            "47/47 [==============================] - 4s 69ms/step - loss: 0.4243\n",
            "Epoch 33/100\n",
            "47/47 [==============================] - 4s 69ms/step - loss: 0.4075\n",
            "Epoch 34/100\n",
            "47/47 [==============================] - 4s 74ms/step - loss: 0.3902\n",
            "Epoch 35/100\n",
            "47/47 [==============================] - 4s 71ms/step - loss: 0.3794\n",
            "Epoch 36/100\n",
            "47/47 [==============================] - 4s 72ms/step - loss: 0.3642\n",
            "Epoch 37/100\n",
            "47/47 [==============================] - 4s 69ms/step - loss: 0.3541\n",
            "Epoch 38/100\n",
            "47/47 [==============================] - 4s 69ms/step - loss: 0.3432\n",
            "Epoch 39/100\n",
            "47/47 [==============================] - 4s 70ms/step - loss: 0.3352\n",
            "Epoch 40/100\n",
            "47/47 [==============================] - 4s 69ms/step - loss: 0.3276\n",
            "Epoch 41/100\n",
            "47/47 [==============================] - 4s 69ms/step - loss: 0.3161\n",
            "Epoch 42/100\n",
            "47/47 [==============================] - 4s 69ms/step - loss: 0.3133\n",
            "Epoch 43/100\n",
            "47/47 [==============================] - 4s 69ms/step - loss: 0.3067\n",
            "Epoch 44/100\n",
            "47/47 [==============================] - 4s 71ms/step - loss: 0.3010\n",
            "Epoch 45/100\n",
            "47/47 [==============================] - 4s 69ms/step - loss: 0.2929\n",
            "Epoch 46/100\n",
            "47/47 [==============================] - 4s 70ms/step - loss: 0.2900\n",
            "Epoch 47/100\n",
            "47/47 [==============================] - 4s 69ms/step - loss: 0.2842\n",
            "Epoch 48/100\n",
            "47/47 [==============================] - 4s 70ms/step - loss: 0.2830\n",
            "Epoch 49/100\n",
            "47/47 [==============================] - 4s 70ms/step - loss: 0.2800\n",
            "Epoch 50/100\n",
            "47/47 [==============================] - 4s 70ms/step - loss: 0.2738\n",
            "Epoch 51/100\n",
            "47/47 [==============================] - 4s 72ms/step - loss: 0.2700\n",
            "Epoch 52/100\n",
            "47/47 [==============================] - 4s 70ms/step - loss: 0.2674\n",
            "Epoch 53/100\n",
            "47/47 [==============================] - 4s 70ms/step - loss: 0.2635\n",
            "Epoch 54/100\n",
            "47/47 [==============================] - 4s 70ms/step - loss: 0.2601\n",
            "Epoch 55/100\n",
            "47/47 [==============================] - 4s 71ms/step - loss: 0.2595\n",
            "Epoch 56/100\n",
            "47/47 [==============================] - 4s 70ms/step - loss: 0.2573\n",
            "Epoch 57/100\n",
            "47/47 [==============================] - 4s 71ms/step - loss: 0.2562\n",
            "Epoch 58/100\n",
            "47/47 [==============================] - 4s 70ms/step - loss: 0.2522\n",
            "Epoch 59/100\n",
            "47/47 [==============================] - 4s 70ms/step - loss: 0.2493\n",
            "Epoch 60/100\n",
            "47/47 [==============================] - 4s 70ms/step - loss: 0.2474\n",
            "Epoch 61/100\n",
            "47/47 [==============================] - 4s 71ms/step - loss: 0.2463\n",
            "Epoch 62/100\n",
            "47/47 [==============================] - 4s 72ms/step - loss: 0.2439\n",
            "Epoch 63/100\n",
            "47/47 [==============================] - 4s 70ms/step - loss: 0.2416\n",
            "Epoch 64/100\n",
            "47/47 [==============================] - 4s 71ms/step - loss: 0.2397\n",
            "Epoch 65/100\n",
            "47/47 [==============================] - 4s 71ms/step - loss: 0.2377\n",
            "Epoch 66/100\n",
            "47/47 [==============================] - 4s 70ms/step - loss: 0.2349\n",
            "Epoch 67/100\n",
            "47/47 [==============================] - 4s 70ms/step - loss: 0.2360\n",
            "Epoch 68/100\n",
            "47/47 [==============================] - 4s 70ms/step - loss: 0.2327\n",
            "Epoch 69/100\n",
            "47/47 [==============================] - 4s 70ms/step - loss: 0.2319\n",
            "Epoch 70/100\n",
            "47/47 [==============================] - 4s 71ms/step - loss: 0.2319\n",
            "Epoch 71/100\n",
            "47/47 [==============================] - 4s 70ms/step - loss: 0.2279\n",
            "Epoch 72/100\n",
            "47/47 [==============================] - 4s 70ms/step - loss: 0.2280\n",
            "Epoch 73/100\n",
            "47/47 [==============================] - 4s 70ms/step - loss: 0.2283\n",
            "Epoch 74/100\n",
            "47/47 [==============================] - 4s 70ms/step - loss: 0.2242\n",
            "Epoch 75/100\n",
            "47/47 [==============================] - 4s 71ms/step - loss: 0.2242\n",
            "Epoch 76/100\n",
            "47/47 [==============================] - 4s 70ms/step - loss: 0.2224\n",
            "Epoch 77/100\n",
            "47/47 [==============================] - 4s 73ms/step - loss: 0.2201\n",
            "Epoch 78/100\n",
            "47/47 [==============================] - 4s 75ms/step - loss: 0.2184\n",
            "Epoch 79/100\n",
            "47/47 [==============================] - 4s 73ms/step - loss: 0.2191\n",
            "Epoch 80/100\n",
            "47/47 [==============================] - 4s 70ms/step - loss: 0.2203\n",
            "Epoch 81/100\n",
            "47/47 [==============================] - 4s 70ms/step - loss: 0.2167\n",
            "Epoch 82/100\n",
            "47/47 [==============================] - 4s 70ms/step - loss: 0.2162\n",
            "Epoch 83/100\n",
            "47/47 [==============================] - 4s 71ms/step - loss: 0.2121\n",
            "Epoch 84/100\n",
            "47/47 [==============================] - 4s 72ms/step - loss: 0.2137\n",
            "Epoch 85/100\n",
            "47/47 [==============================] - 4s 70ms/step - loss: 0.2132\n",
            "Epoch 86/100\n",
            "47/47 [==============================] - 4s 71ms/step - loss: 0.2103\n",
            "Epoch 87/100\n",
            "47/47 [==============================] - 4s 70ms/step - loss: 0.2110\n",
            "Epoch 88/100\n",
            "47/47 [==============================] - 4s 70ms/step - loss: 0.2094\n",
            "Epoch 89/100\n",
            "47/47 [==============================] - 4s 71ms/step - loss: 0.2087\n",
            "Epoch 90/100\n",
            "47/47 [==============================] - 4s 72ms/step - loss: 0.2081\n",
            "Epoch 91/100\n",
            "47/47 [==============================] - 4s 71ms/step - loss: 0.2065\n",
            "Epoch 92/100\n",
            "47/47 [==============================] - 4s 70ms/step - loss: 0.2068\n",
            "Epoch 93/100\n",
            "47/47 [==============================] - 4s 70ms/step - loss: 0.2074\n",
            "Epoch 94/100\n",
            "47/47 [==============================] - 4s 70ms/step - loss: 0.2050\n",
            "Epoch 95/100\n",
            "47/47 [==============================] - 4s 70ms/step - loss: 0.2019\n",
            "Epoch 96/100\n",
            "47/47 [==============================] - 4s 70ms/step - loss: 0.2024\n",
            "Epoch 97/100\n",
            "47/47 [==============================] - 4s 71ms/step - loss: 0.2010\n",
            "Epoch 98/100\n",
            "47/47 [==============================] - 4s 70ms/step - loss: 0.2018\n",
            "Epoch 99/100\n",
            "47/47 [==============================] - 4s 70ms/step - loss: 0.1994\n",
            "Epoch 100/100\n",
            "47/47 [==============================] - 4s 71ms/step - loss: 0.1979\n"
          ]
        }
      ]
    },
    {
      "cell_type": "markdown",
      "source": [
        "Generate text\n",
        "\n",
        "Restore the latest checkpoint\n",
        "To keep this prediction step simple, use a batch size of 1.\n",
        "\n",
        "Because of the way the RNN state is passed from timestep to timestep, the model only accepts a fixed batch size once built.\n",
        "\n",
        "To run the model with a different batch_size, we need to rebuild the model and restore the weights from the checkpoint."
      ],
      "metadata": {
        "id": "hnYGWMOC009A"
      }
    },
    {
      "cell_type": "code",
      "source": [
        "tf.train.latest_checkpoint(checkpoint_dir)\n",
        "model = build_model(vocab_size, embedding_dim, rnn_units, batch_size=1)\n",
        "\n",
        "model.load_weights(tf.train.latest_checkpoint(checkpoint_dir))\n",
        "\n",
        "model.build(tf.TensorShape([1, None]))\n",
        "model.summary()"
      ],
      "metadata": {
        "colab": {
          "base_uri": "https://localhost:8080/"
        },
        "id": "YikwIFlSRJu9",
        "outputId": "a41696fd-2056-409f-8414-9153229fc899"
      },
      "execution_count": 40,
      "outputs": [
        {
          "output_type": "stream",
          "name": "stdout",
          "text": [
            "Model: \"sequential_3\"\n",
            "_________________________________________________________________\n",
            " Layer (type)                Output Shape              Param #   \n",
            "=================================================================\n",
            " embedding_3 (Embedding)     (1, None, 256)            29952     \n",
            "                                                                 \n",
            " lstm_3 (LSTM)               (1, None, 1024)           5246976   \n",
            "                                                                 \n",
            " dense_9 (Dense)             (1, None, 117)            119925    \n",
            "                                                                 \n",
            " dense_10 (Dense)            (1, None, 50)             5900      \n",
            "                                                                 \n",
            " dense_11 (Dense)            (1, None, 117)            5967      \n",
            "                                                                 \n",
            "=================================================================\n",
            "Total params: 5,408,720\n",
            "Trainable params: 5,408,720\n",
            "Non-trainable params: 0\n",
            "_________________________________________________________________\n"
          ]
        }
      ]
    },
    {
      "cell_type": "markdown",
      "source": [
        "The prediction loop\n",
        "\n",
        "The following code block generates the text:\n",
        "\n",
        "It Starts by choosing a start string, initializing the RNN state and setting the number of characters to generate.\n",
        "\n",
        "Get the prediction distribution of the next character using the start string and the RNN state.\n",
        "\n",
        "Then, use a categorical distribution to calculate the index of the predicted character. Use this predicted character as our next input to the model.\n",
        "\n",
        "The RNN state returned by the model is fed back into the model so that it now has more context, instead than only one character. After predicting the next character, the modified RNN states are again fed back into the model, which is how it learns as it gets more context from the previously predicted characters.\n",
        "\n",
        "Looking at the generated text, you'll see the model knows when to capitalize, make paragraphs and imitates a Shakespeare-like writing vocabulary. With the small number of training epochs, it has not yet learned to form coherent sentences."
      ],
      "metadata": {
        "id": "DotmZwZh04_C"
      }
    },
    {
      "cell_type": "code",
      "source": [
        "def generate_text(model, start_string):\n",
        "  # Evaluation step (generating text using the learned model)\n",
        "\n",
        "  # Number of characters to generate\n",
        "  num_generate = 1000\n",
        "\n",
        "  # Converting our start string to numbers (vectorizing)\n",
        "  input_eval = [char2idx[s] for s in start_string]\n",
        "  input_eval = tf.expand_dims(input_eval, 0)\n",
        "\n",
        "  # Empty string to store our results\n",
        "  text_generated = []\n",
        "\n",
        "  # Low temperatures results in more predictable text.\n",
        "  # Higher temperatures results in more surprising text.\n",
        "  # Experiment to find the best setting.\n",
        "  temperature = 1.0\n",
        "\n",
        "  # Here batch size == 1\n",
        "  model.reset_states()\n",
        "  for i in range(num_generate):\n",
        "    predictions = model(input_eval)\n",
        "    # remove the batch dimension\n",
        "    predictions = tf.squeeze(predictions, 0)\n",
        "\n",
        "    # using a categorical distribution to predict the character returned by the model\n",
        "    predictions = predictions / temperature\n",
        "    predicted_id = tf.random.categorical(predictions, num_samples=1)[-1,0].numpy()\n",
        "\n",
        "    # We pass the predicted character as the next input to the model\n",
        "    # along with the previous hidden state\n",
        "    input_eval = tf.expand_dims([predicted_id], 0)\n",
        "\n",
        "    text_generated.append(idx2char[predicted_id])\n",
        "\n",
        "  return (start_string + ''.join(text_generated))"
      ],
      "metadata": {
        "id": "uBkhf3FSRedB"
      },
      "execution_count": 41,
      "outputs": []
    },
    {
      "cell_type": "markdown",
      "source": [
        ""
      ],
      "metadata": {
        "id": "JX4FNmBq09JA"
      }
    },
    {
      "cell_type": "code",
      "source": [
        "print(generate_text(model, start_string=u\"machine learning\"))"
      ],
      "metadata": {
        "colab": {
          "base_uri": "https://localhost:8080/"
        },
        "id": "Ou_gMGEmRiF-",
        "outputId": "645afc83-534c-4f03-bab6-ab98a487b6a0"
      },
      "execution_count": 42,
      "outputs": [
        {
          "output_type": "stream",
          "name": "stdout",
          "text": [
            "machine learning model in embedded devices removal intelligence (AGI) architectures. These issues may possibly be addressed by deep learning architectures display problematic behavior bases ranging from advanced missiles to UAVs for recon missions or missile guidance. Space exploration is also common. The opinion of experts and industry insiders is mixed, with sizable fractions both concerned a data-set that has been labeled as \"normal\" and \"abnormal\" neural network-based approaches may be viewed as a new paradigm distinct from statistical natural language processing (NLP) algorithms through unsupervised learning encidarnstems a subfield of linguistics, computer science, and artificial intelligence corlow is the necessary and sufficient performance or a deep neural network with ReLU activation is strictly larger than the input dimension, there dar hishore classification, prediction, smaller, spon of fiction, are that uses dynamic BPy-sy were level were lizeles $DL. Hata and late variable cand over a d\n"
          ]
        }
      ]
    },
    {
      "cell_type": "code",
      "source": [
        ""
      ],
      "metadata": {
        "id": "ybqyAXMhy4mN"
      },
      "execution_count": 42,
      "outputs": []
    }
  ]
}